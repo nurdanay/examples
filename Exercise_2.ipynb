{
  "nbformat": 4,
  "nbformat_minor": 0,
  "metadata": {
    "kernelspec": {
      "name": "python3",
      "display_name": "Python 3"
    },
    "language_info": {
      "name": "python",
      "version": "3.6.6",
      "mimetype": "text/x-python",
      "codemirror_mode": {
        "name": "ipython",
        "version": 3
      },
      "pygments_lexer": "ipython3",
      "nbconvert_exporter": "python",
      "file_extension": ".py"
    },
    "colab": {
      "name": "Exercise_2.ipynb",
      "provenance": [],
      "collapsed_sections": [],
      "include_colab_link": true
    },
    "accelerator": "GPU"
  },
  "cells": [
    {
      "cell_type": "markdown",
      "metadata": {
        "id": "view-in-github",
        "colab_type": "text"
      },
      "source": [
        "<a href=\"https://colab.research.google.com/github/nurdanay/examples/blob/master/Exercise_2.ipynb\" target=\"_parent\"><img src=\"https://colab.research.google.com/assets/colab-badge.svg\" alt=\"Open In Colab\"/></a>"
      ]
    },
    {
      "cell_type": "markdown",
      "metadata": {
        "id": "E8GvPUQQc5sK",
        "colab_type": "text"
      },
      "source": [
        "**Please add a text block below and enter your name and some information about the file you are working with (language, number of lines and tokens)**:\n",
        "Nurdan AY\n",
        "---\n",
        "\n"
      ]
    },
    {
      "cell_type": "markdown",
      "metadata": {
        "_uuid": "84163f3ca19c0b7c9fda47121b3bc4cadfaf1fcc",
        "id": "OVou1rqXph8o",
        "colab_type": "text"
      },
      "source": [
        "# Gensim Word2Vec Tutorial on Horizons Corpus in English data"
      ]
    },
    {
      "cell_type": "markdown",
      "metadata": {
        "_uuid": "6721f3a77cbc903d996b88c42f22c3e5e920e909",
        "id": "YQaWbfEZph8s",
        "colab_type": "text"
      },
      "source": [
        "## Word vectors\n",
        "Relations captured by word2vec.\n",
        "\n",
        "<img src=\"https://miro.medium.com/max/3496/1*jpnKO5X0Ii8PVdQYFO2z1Q.png\" alt=\"drawing\" width=\"400\"/> \n",
        "\n",
        "\n",
        "\n"
      ]
    },
    {
      "cell_type": "markdown",
      "metadata": {
        "_uuid": "7d96105f0c90bf052b2afdb684bf31549e1e6c81",
        "id": "-sN62vtBph8v",
        "colab_type": "text"
      },
      "source": [
        "## Brief explanation:\n",
        "This tutorial focuses on the use of the Word2Vec package from the Gensim library.\n",
        "\n",
        "Word2Vec was introduced in two [papers](#Material-for-more-in-depths-understanding:) in 2013, by a team of researchers at Google. Along with the papers, the researchers published their implementation in C. The Python implementation was done soon after the 1st paper, by [Gensim](https://radimrehurek.com/gensim/index.html). \n",
        "\n",
        "The underlying assumption of Word2Vec is that two words sharing similar contexts also share a similar meaning and consequently a similar vector representation from the model. For instance: \"dog\", \"puppy\" and \"pup\" are often used in similar situations, with similar surrounding words like \"good\", \"fluffy\" or \"cute\", and according to Word2Vec they will therefore share a similar vector representation.<br>\n",
        "\n",
        "From this assumption, Word2Vec can be used to find out the relations between words in a dataset, compute the similarity between them, or use the vector representation of those words as input for other applications such as text classification or clustering.\n",
        "\n",
        "# Getting Started\n",
        "\n",
        "Here you can find more information on the libraries that will be used in the tutorial:\n",
        " * pandas: https://pandas.pydata.org/\n",
        " * gensim: https://radimrehurek.com/gensim/install.html\n",
        " * gensim implementation of word2vec: https://radimrehurek.com/gensim/models/word2vec.html\n",
        " * xlrd: https://pypi.org/project/xlrd/\n",
        " * spaCy: https://spacy.io/usage/\n",
        " * scikit-learn: http://scikit-learn.org/stable/install.html\n",
        " * seaborn: https://seaborn.pydata.org/installing.html\n",
        " \n",
        " \n",
        " \n",
        " Now import the libraries."
      ]
    },
    {
      "cell_type": "code",
      "metadata": {
        "trusted": true,
        "_uuid": "cc7b3e6ca62670ff13626705402f626778487204",
        "id": "Kot_j9aiph8w",
        "colab_type": "code",
        "colab": {}
      },
      "source": [
        "import re  # For preprocessing\n",
        "import pandas as pd  # For data handling\n",
        "from time import time  # To time our operations\n",
        "from collections import defaultdict  # For word frequency\n",
        "import spacy  # For preprocessing\n",
        "import logging  # Setting up the loggings to monitor gensim\n",
        "logging.basicConfig(format=\"%(levelname)s - %(asctime)s: %(message)s\", datefmt= '%H:%M:%S', level=logging.INFO)"
      ],
      "execution_count": 0,
      "outputs": []
    },
    {
      "cell_type": "markdown",
      "metadata": {
        "_uuid": "8ec7ce784f6d9e7f71e2b5789b1e65ec4414628b",
        "id": "LOvJt1Hnph8z",
        "colab_type": "text"
      },
      "source": [
        "# The data: Horizons Corpus in English\n",
        "\n",
        "\n",
        "Horizons shines a light on scientific research in Switzerland. The magazine reports on the latest developments in the science world and discusses research policy issues of global importance.\n",
        "\n",
        "Horizons is published by the Swiss National Science Foundation and the Swiss Academies of Arts and Sciences. The editors are independent and the articles do not necessarily reflect the opinions of the publishers.\n",
        "\n",
        "A print edition of Horizons is published four times a year in German and French. The online version is also available in English.\n",
        " \n",
        "\n",
        "\n",
        "\n",
        " \n",
        "\n",
        "\n",
        "\n",
        "\n"
      ]
    },
    {
      "cell_type": "markdown",
      "metadata": {
        "_uuid": "0c36323d9aa62f74ab348cda5ee0f571aa1d4a96",
        "id": "GKrVWONCph81",
        "colab_type": "text"
      },
      "source": [
        "# Preprocessing\n",
        "\n"
      ]
    },
    {
      "cell_type": "markdown",
      "metadata": {
        "id": "kRWCYqvmYON9",
        "colab_type": "text"
      },
      "source": [
        "Make a copy of this tutorial to your google drive. Rename it. \n",
        "\n",
        "Choose a corpus file for a particular language from the **material/exercise6** folder on r2d2. Convert it to one-sentence-per-line format as instructed in the assignment. Then download it from the server onto your machine.\n",
        "\n",
        "Now you need to upload the file here. In the menu on the left, under **Files** click on **Upload** and select the file from your computer. This can take a while depending on your internet speed and size of your file...\n",
        "\n",
        "Once the file is uploaded you can read it into a pandas dataframe using the command below. (A pandas dataframe is a table-like object useful for data analytics in Python)"
      ]
    },
    {
      "cell_type": "code",
      "metadata": {
        "trusted": true,
        "_uuid": "6453b9c3f797e51923e030090ead659253f4e459",
        "id": "v5F_yjMYph82",
        "colab_type": "code",
        "outputId": "ee63c6f9-f3f2-4ac9-8fb5-b447c9127572",
        "colab": {
          "base_uri": "https://localhost:8080/",
          "height": 35
        }
      },
      "source": [
        "df = pd.read_csv('big_data.csv', engine='python', encoding='utf8', error_bad_lines=False)\n",
        "df.shape"
      ],
      "execution_count": 9,
      "outputs": [
        {
          "output_type": "execute_result",
          "data": {
            "text/plain": [
              "(21024, 1)"
            ]
          },
          "metadata": {
            "tags": []
          },
          "execution_count": 9
        }
      ]
    },
    {
      "cell_type": "code",
      "metadata": {
        "trusted": true,
        "_uuid": "c6c6bf4462fb4bc00c2abdbf65eced888219f364",
        "id": "YITF7rpqph85",
        "colab_type": "code",
        "outputId": "e638225f-cdea-418f-c2fd-cbebc22dfe68",
        "colab": {
          "base_uri": "https://localhost:8080/",
          "height": 202
        }
      },
      "source": [
        "df.head()"
      ],
      "execution_count": 10,
      "outputs": [
        {
          "output_type": "execute_result",
          "data": {
            "text/html": [
              "<div>\n",
              "<style scoped>\n",
              "    .dataframe tbody tr th:only-of-type {\n",
              "        vertical-align: middle;\n",
              "    }\n",
              "\n",
              "    .dataframe tbody tr th {\n",
              "        vertical-align: top;\n",
              "    }\n",
              "\n",
              "    .dataframe thead th {\n",
              "        text-align: right;\n",
              "    }\n",
              "</style>\n",
              "<table border=\"1\" class=\"dataframe\">\n",
              "  <thead>\n",
              "    <tr style=\"text-align: right;\">\n",
              "      <th></th>\n",
              "      <th>Sentences</th>\n",
              "    </tr>\n",
              "  </thead>\n",
              "  <tbody>\n",
              "    <tr>\n",
              "      <th>0</th>\n",
              "      <td>Let 's not fan the flames</td>\n",
              "    </tr>\n",
              "    <tr>\n",
              "      <th>1</th>\n",
              "      <td>In 1929 - the year of the crash on Wall Street...</td>\n",
              "    </tr>\n",
              "    <tr>\n",
              "      <th>2</th>\n",
              "      <td>The growing disapproval of the public soon led...</td>\n",
              "    </tr>\n",
              "    <tr>\n",
              "      <th>3</th>\n",
              "      <td>Even psychologists helped improve pilot traini...</td>\n",
              "    </tr>\n",
              "    <tr>\n",
              "      <th>4</th>\n",
              "      <td>Nearly 90 years later , the rate of fatal avia...</td>\n",
              "    </tr>\n",
              "  </tbody>\n",
              "</table>\n",
              "</div>"
            ],
            "text/plain": [
              "                                           Sentences\n",
              "0                          Let 's not fan the flames\n",
              "1  In 1929 - the year of the crash on Wall Street...\n",
              "2  The growing disapproval of the public soon led...\n",
              "3  Even psychologists helped improve pilot traini...\n",
              "4  Nearly 90 years later , the rate of fatal avia..."
            ]
          },
          "metadata": {
            "tags": []
          },
          "execution_count": 10
        }
      ]
    },
    {
      "cell_type": "markdown",
      "metadata": {
        "_uuid": "885a555596d7484841ea54c94405d03d90572396",
        "id": "7hU40M-qph8-",
        "colab_type": "text"
      },
      "source": [
        "Removing the missing values:"
      ]
    },
    {
      "cell_type": "code",
      "metadata": {
        "trusted": true,
        "_uuid": "82cb38f176526679f66ee31e11cfe4f5eebdab51",
        "id": "mDo4YQ0Cph8_",
        "colab_type": "code",
        "outputId": "665c362f-0e71-443d-988b-ba400807841e",
        "colab": {
          "base_uri": "https://localhost:8080/",
          "height": 52
        }
      },
      "source": [
        "df = df.dropna().reset_index(drop=True)\n",
        "df.isnull().sum()"
      ],
      "execution_count": 11,
      "outputs": [
        {
          "output_type": "execute_result",
          "data": {
            "text/plain": [
              "Sentences    0\n",
              "dtype: int64"
            ]
          },
          "metadata": {
            "tags": []
          },
          "execution_count": 11
        }
      ]
    },
    {
      "cell_type": "markdown",
      "metadata": {
        "id": "spp7Muln1W54",
        "colab_type": "text"
      },
      "source": [
        "Depending on the language you have decided to work on, modify the language code in the next two commands accordingly in order to work with the correct spacy language package."
      ]
    },
    {
      "cell_type": "code",
      "metadata": {
        "id": "N_DKYvPkszkF",
        "colab_type": "code",
        "outputId": "f34223ad-a4ae-4350-cfa1-d0422adad734",
        "colab": {
          "base_uri": "https://localhost:8080/",
          "height": 505
        }
      },
      "source": [
        "# installing the language package.\n",
        "!python -m spacy download en"
      ],
      "execution_count": 12,
      "outputs": [
        {
          "output_type": "stream",
          "text": [
            "Requirement already satisfied: en_core_web_sm==2.2.5 from https://github.com/explosion/spacy-models/releases/download/en_core_web_sm-2.2.5/en_core_web_sm-2.2.5.tar.gz#egg=en_core_web_sm==2.2.5 in /usr/local/lib/python3.6/dist-packages (2.2.5)\n",
            "Requirement already satisfied: spacy>=2.2.2 in /usr/local/lib/python3.6/dist-packages (from en_core_web_sm==2.2.5) (2.2.4)\n",
            "Requirement already satisfied: requests<3.0.0,>=2.13.0 in /usr/local/lib/python3.6/dist-packages (from spacy>=2.2.2->en_core_web_sm==2.2.5) (2.23.0)\n",
            "Requirement already satisfied: setuptools in /usr/local/lib/python3.6/dist-packages (from spacy>=2.2.2->en_core_web_sm==2.2.5) (47.1.1)\n",
            "Requirement already satisfied: catalogue<1.1.0,>=0.0.7 in /usr/local/lib/python3.6/dist-packages (from spacy>=2.2.2->en_core_web_sm==2.2.5) (1.0.0)\n",
            "Requirement already satisfied: murmurhash<1.1.0,>=0.28.0 in /usr/local/lib/python3.6/dist-packages (from spacy>=2.2.2->en_core_web_sm==2.2.5) (1.0.2)\n",
            "Requirement already satisfied: wasabi<1.1.0,>=0.4.0 in /usr/local/lib/python3.6/dist-packages (from spacy>=2.2.2->en_core_web_sm==2.2.5) (0.6.0)\n",
            "Requirement already satisfied: thinc==7.4.0 in /usr/local/lib/python3.6/dist-packages (from spacy>=2.2.2->en_core_web_sm==2.2.5) (7.4.0)\n",
            "Requirement already satisfied: tqdm<5.0.0,>=4.38.0 in /usr/local/lib/python3.6/dist-packages (from spacy>=2.2.2->en_core_web_sm==2.2.5) (4.41.1)\n",
            "Requirement already satisfied: numpy>=1.15.0 in /usr/local/lib/python3.6/dist-packages (from spacy>=2.2.2->en_core_web_sm==2.2.5) (1.18.5)\n",
            "Requirement already satisfied: plac<1.2.0,>=0.9.6 in /usr/local/lib/python3.6/dist-packages (from spacy>=2.2.2->en_core_web_sm==2.2.5) (1.1.3)\n",
            "Requirement already satisfied: cymem<2.1.0,>=2.0.2 in /usr/local/lib/python3.6/dist-packages (from spacy>=2.2.2->en_core_web_sm==2.2.5) (2.0.3)\n",
            "Requirement already satisfied: blis<0.5.0,>=0.4.0 in /usr/local/lib/python3.6/dist-packages (from spacy>=2.2.2->en_core_web_sm==2.2.5) (0.4.1)\n",
            "Requirement already satisfied: srsly<1.1.0,>=1.0.2 in /usr/local/lib/python3.6/dist-packages (from spacy>=2.2.2->en_core_web_sm==2.2.5) (1.0.2)\n",
            "Requirement already satisfied: preshed<3.1.0,>=3.0.2 in /usr/local/lib/python3.6/dist-packages (from spacy>=2.2.2->en_core_web_sm==2.2.5) (3.0.2)\n",
            "Requirement already satisfied: chardet<4,>=3.0.2 in /usr/local/lib/python3.6/dist-packages (from requests<3.0.0,>=2.13.0->spacy>=2.2.2->en_core_web_sm==2.2.5) (3.0.4)\n",
            "Requirement already satisfied: certifi>=2017.4.17 in /usr/local/lib/python3.6/dist-packages (from requests<3.0.0,>=2.13.0->spacy>=2.2.2->en_core_web_sm==2.2.5) (2020.4.5.1)\n",
            "Requirement already satisfied: urllib3!=1.25.0,!=1.25.1,<1.26,>=1.21.1 in /usr/local/lib/python3.6/dist-packages (from requests<3.0.0,>=2.13.0->spacy>=2.2.2->en_core_web_sm==2.2.5) (1.24.3)\n",
            "Requirement already satisfied: idna<3,>=2.5 in /usr/local/lib/python3.6/dist-packages (from requests<3.0.0,>=2.13.0->spacy>=2.2.2->en_core_web_sm==2.2.5) (2.9)\n",
            "Requirement already satisfied: importlib-metadata>=0.20; python_version < \"3.8\" in /usr/local/lib/python3.6/dist-packages (from catalogue<1.1.0,>=0.0.7->spacy>=2.2.2->en_core_web_sm==2.2.5) (1.6.0)\n",
            "Requirement already satisfied: zipp>=0.5 in /usr/local/lib/python3.6/dist-packages (from importlib-metadata>=0.20; python_version < \"3.8\"->catalogue<1.1.0,>=0.0.7->spacy>=2.2.2->en_core_web_sm==2.2.5) (3.1.0)\n",
            "\u001b[38;5;2m✔ Download and installation successful\u001b[0m\n",
            "You can now load the model via spacy.load('en_core_web_sm')\n",
            "\u001b[38;5;2m✔ Linking successful\u001b[0m\n",
            "/usr/local/lib/python3.6/dist-packages/en_core_web_sm -->\n",
            "/usr/local/lib/python3.6/dist-packages/spacy/data/en\n",
            "You can now load the model via spacy.load('en')\n"
          ],
          "name": "stdout"
        }
      ]
    },
    {
      "cell_type": "markdown",
      "metadata": {
        "_uuid": "7f07dca2a2656dcd9e0c315afa36af32a992eef7",
        "id": "-uT1L0RHph9C",
        "colab_type": "text"
      },
      "source": [
        "\n",
        "Here, we create a function that will lemmatize and remove stopwords (a.k.a. non-content words) for each line of corpus."
      ]
    },
    {
      "cell_type": "code",
      "metadata": {
        "trusted": true,
        "_uuid": "b26a0c01c5701630d3951cfc808a9d944eea6371",
        "id": "U72F_H91ph9D",
        "colab_type": "code",
        "colab": {}
      },
      "source": [
        "nlp = spacy.load('en', disable=['ner', 'parser']) # disabling Named Entity Recognition for speed\n",
        "\n",
        "def cleaning(doc):\n",
        "    # Lemmatizes and removes stopwords\n",
        "    # doc needs to be a spacy Doc object\n",
        "    txt = [token.lemma_ for token in doc if not token.is_stop] \n",
        " \n",
        "    # Word2Vec uses context words to learn the vector representation of a target word,\n",
        "    # if a sentence is only one or two words long,\n",
        "    # the benefit for the training is very small\n",
        "    if len(txt) > 2:\n",
        "        return ' '.join(txt)"
      ],
      "execution_count": 0,
      "outputs": []
    },
    {
      "cell_type": "markdown",
      "metadata": {
        "_uuid": "f686964722eede40e5961cd232aee7b6dd587bd1",
        "id": "c2zhsdRoph9G",
        "colab_type": "text"
      },
      "source": [
        "We remove non-alphabetic characters but we make sure to keep all the non-ascii characters specific to our languages! For more information take a look at this table of unicode characters:\n",
        "https://unicode-table.com/en/#control-character\n",
        "\n",
        "**Achtung**: if you are working with German, remove the .lower() method from the command below. We want to keep those nouns capitalized."
      ]
    },
    {
      "cell_type": "code",
      "metadata": {
        "trusted": true,
        "_uuid": "b45598934171607242ca7d50f8c5f7c91411aace",
        "id": "3ti0cRJXph9H",
        "colab_type": "code",
        "colab": {}
      },
      "source": [
        "brief_cleaning = (re.sub(\"[^\\u00C0-\\u017FA-Za-z']+\", ' ', str(row)).lower() for row in df['Sentences'])"
      ],
      "execution_count": 0,
      "outputs": []
    },
    {
      "cell_type": "markdown",
      "metadata": {
        "_uuid": "2360160a7f326a32d56f2f18782d7ce2f4ac1def",
        "id": "SL66IuhHph9J",
        "colab_type": "text"
      },
      "source": [
        "Now we put all the steps together and clean the corpus. It can be a long process so we use spaCy's .pipe() attribute to speed it up. However for the entire German corpus of 23 million tokens it might still take up to 20 mins and more!"
      ]
    },
    {
      "cell_type": "code",
      "metadata": {
        "trusted": true,
        "_uuid": "fa44ca458c970ca229426779e6ffcd46c2de313c",
        "id": "pHWBdNiHph9K",
        "colab_type": "code",
        "outputId": "8aa2d054-74e7-4836-cb53-df2ed8cd63eb",
        "colab": {
          "base_uri": "https://localhost:8080/",
          "height": 52
        }
      },
      "source": [
        "t = time()\n",
        "print(nlp.pipe_names)\n",
        "\n",
        "txt = [cleaning(doc) for doc in nlp.pipe(brief_cleaning, batch_size=5000, n_threads=-1)]\n",
        "\n",
        "print('Time to clean up everything: {} mins'.format(round((time() - t) / 60, 2)))"
      ],
      "execution_count": 15,
      "outputs": [
        {
          "output_type": "stream",
          "text": [
            "['tagger']\n",
            "Time to clean up everything: 0.26 mins\n"
          ],
          "name": "stdout"
        }
      ]
    },
    {
      "cell_type": "markdown",
      "metadata": {
        "_uuid": "65ec76c60f9fe93bba6909f4e696f90e3e54710b",
        "id": "tVzX8SGqph9N",
        "colab_type": "text"
      },
      "source": [
        "Put the results in a DataFrame to remove missing values and duplicates:"
      ]
    },
    {
      "cell_type": "code",
      "metadata": {
        "trusted": true,
        "_uuid": "57f1eb8382554bc592d48915a903230b5b6d6cf7",
        "id": "itFNh4fbph9O",
        "colab_type": "code",
        "outputId": "f594faf6-fe02-42b6-a7c1-25e38eb3f45a",
        "colab": {
          "base_uri": "https://localhost:8080/",
          "height": 35
        }
      },
      "source": [
        "df_clean = pd.DataFrame({'clean': txt})\n",
        "df_clean = df_clean.dropna().drop_duplicates()\n",
        "df_clean.shape"
      ],
      "execution_count": 16,
      "outputs": [
        {
          "output_type": "execute_result",
          "data": {
            "text/plain": [
              "(16250, 1)"
            ]
          },
          "metadata": {
            "tags": []
          },
          "execution_count": 16
        }
      ]
    },
    {
      "cell_type": "code",
      "metadata": {
        "id": "JyXo_O4drC43",
        "colab_type": "code",
        "outputId": "c8880f2b-37d4-450f-87e7-b2ed3c14fb41",
        "colab": {
          "base_uri": "https://localhost:8080/",
          "height": 202
        }
      },
      "source": [
        "df_clean.head()"
      ],
      "execution_count": 17,
      "outputs": [
        {
          "output_type": "execute_result",
          "data": {
            "text/html": [
              "<div>\n",
              "<style scoped>\n",
              "    .dataframe tbody tr th:only-of-type {\n",
              "        vertical-align: middle;\n",
              "    }\n",
              "\n",
              "    .dataframe tbody tr th {\n",
              "        vertical-align: top;\n",
              "    }\n",
              "\n",
              "    .dataframe thead th {\n",
              "        text-align: right;\n",
              "    }\n",
              "</style>\n",
              "<table border=\"1\" class=\"dataframe\">\n",
              "  <thead>\n",
              "    <tr style=\"text-align: right;\">\n",
              "      <th></th>\n",
              "      <th>clean</th>\n",
              "    </tr>\n",
              "  </thead>\n",
              "  <tbody>\n",
              "    <tr>\n",
              "      <th>0</th>\n",
              "      <td>let fan flame</td>\n",
              "    </tr>\n",
              "    <tr>\n",
              "      <th>1</th>\n",
              "      <td>year crash wall street aircraft accident kill ...</td>\n",
              "    </tr>\n",
              "    <tr>\n",
              "      <th>2</th>\n",
              "      <td>grow disapproval public soon lead safe fly man...</td>\n",
              "    </tr>\n",
              "    <tr>\n",
              "      <th>3</th>\n",
              "      <td>psychologist help improve pilot training intro...</td>\n",
              "    </tr>\n",
              "    <tr>\n",
              "      <th>4</th>\n",
              "      <td>nearly year later rate fatal aviation accident...</td>\n",
              "    </tr>\n",
              "  </tbody>\n",
              "</table>\n",
              "</div>"
            ],
            "text/plain": [
              "                                               clean\n",
              "0                                      let fan flame\n",
              "1  year crash wall street aircraft accident kill ...\n",
              "2  grow disapproval public soon lead safe fly man...\n",
              "3  psychologist help improve pilot training intro...\n",
              "4  nearly year later rate fatal aviation accident..."
            ]
          },
          "metadata": {
            "tags": []
          },
          "execution_count": 17
        }
      ]
    },
    {
      "cell_type": "markdown",
      "metadata": {
        "_uuid": "31b4a744059df490ddb47ab6cdec008dc929ede3",
        "id": "Nb8eWHIDph9S",
        "colab_type": "text"
      },
      "source": [
        "## Bigrams:\n",
        "We are using Gensim Phrases package to automatically detect common phrases (bigrams) from a list of sentences.\n",
        "https://radimrehurek.com/gensim/models/phrases.html\n",
        "\n",
        "The main reason we do this is to catch words like \"new_york\"."
      ]
    },
    {
      "cell_type": "code",
      "metadata": {
        "trusted": true,
        "_uuid": "af6d420284a0ff7a7407d4c526754ffe850d6170",
        "id": "epUmie8Uph9T",
        "colab_type": "code",
        "colab": {}
      },
      "source": [
        "from gensim.models.phrases import Phrases, Phraser"
      ],
      "execution_count": 0,
      "outputs": []
    },
    {
      "cell_type": "markdown",
      "metadata": {
        "_uuid": "788aec3c82788101db25d4ca6105ee133fecae7c",
        "id": "mBsujyM6ph9V",
        "colab_type": "text"
      },
      "source": [
        "`Phrases()` takes a list of lists of words as input:"
      ]
    },
    {
      "cell_type": "code",
      "metadata": {
        "trusted": true,
        "_uuid": "f58487ff08d8812622fd7aef36139f1c850add18",
        "id": "dmGcgwIQph9W",
        "colab_type": "code",
        "colab": {}
      },
      "source": [
        "sent = [row.split() for row in df_clean['clean']]"
      ],
      "execution_count": 0,
      "outputs": []
    },
    {
      "cell_type": "markdown",
      "metadata": {
        "_uuid": "bb7766b322cbc1d3381912b890585eb249ac5304",
        "id": "xth0R66Dph9Z",
        "colab_type": "text"
      },
      "source": [
        "Creates the relevant phrases from the list of sentences:"
      ]
    },
    {
      "cell_type": "code",
      "metadata": {
        "trusted": true,
        "_uuid": "8befad8c76c54bd2b831b0942a2f626f7d8a6dac",
        "id": "xj8Jbj-eph9a",
        "colab_type": "code",
        "outputId": "5f828d5e-6107-4d62-9116-4b75aefc07e9",
        "colab": {
          "base_uri": "https://localhost:8080/",
          "height": 104
        }
      },
      "source": [
        "phrases = Phrases(sent, min_count=30, progress_per=10000)"
      ],
      "execution_count": 21,
      "outputs": [
        {
          "output_type": "stream",
          "text": [
            "INFO - 07:48:05: collecting all words and their counts\n",
            "INFO - 07:48:05: PROGRESS: at sentence #0, processed 0 words and 0 word types\n",
            "INFO - 07:48:05: PROGRESS: at sentence #10000, processed 89058 words and 77227 word types\n",
            "INFO - 07:48:05: collected 117574 word types from a corpus of 143717 words (unigram + bigrams) and 16250 sentences\n",
            "INFO - 07:48:05: using 117574 counts as vocab in Phrases<0 vocab, min_count=30, threshold=10.0, max_vocab_size=40000000>\n"
          ],
          "name": "stderr"
        }
      ]
    },
    {
      "cell_type": "markdown",
      "metadata": {
        "_uuid": "45bae4a953f2ad8951e4efb234e1e357857a33b3",
        "id": "ScNtXcxoph9c",
        "colab_type": "text"
      },
      "source": [
        "The goal of Phraser() is to cut down memory consumption of Phrases(), by discarding model state not strictly needed for the bigram detection task:"
      ]
    },
    {
      "cell_type": "code",
      "metadata": {
        "_kg_hide-input": true,
        "trusted": true,
        "_uuid": "b8ae81ba230013aefe7c584338de7376fedf6294",
        "id": "EF_NAr3Lph9d",
        "colab_type": "code",
        "outputId": "8af5aff2-6d91-40fc-eb24-f7ff5ca99560",
        "colab": {
          "base_uri": "https://localhost:8080/",
          "height": 52
        }
      },
      "source": [
        "bigram = Phraser(phrases)"
      ],
      "execution_count": 22,
      "outputs": [
        {
          "output_type": "stream",
          "text": [
            "INFO - 07:52:50: source_vocab length 117574\n",
            "INFO - 07:52:51: Phraser built with 25 phrasegrams\n"
          ],
          "name": "stderr"
        }
      ]
    },
    {
      "cell_type": "markdown",
      "metadata": {
        "_uuid": "4a58380f19d159688aeee665d1afb96289fdd4b8",
        "id": "Lk0s0nvaph9g",
        "colab_type": "text"
      },
      "source": [
        "Transform the corpus based on the bigrams detected:"
      ]
    },
    {
      "cell_type": "code",
      "metadata": {
        "trusted": true,
        "_uuid": "8051b56890c147119db3df529d3cfd3cf675fdca",
        "id": "7PpwYjxHph9g",
        "colab_type": "code",
        "colab": {}
      },
      "source": [
        "sentences = bigram[sent]"
      ],
      "execution_count": 0,
      "outputs": []
    },
    {
      "cell_type": "markdown",
      "metadata": {
        "_uuid": "a4f81e8bb2c09a67b00cd24db28353eca8ae188c",
        "id": "bFNy-0n0ph9j",
        "colab_type": "text"
      },
      "source": [
        "## Most Frequent Words:\n",
        "Let's take a closer look at our data by making a dictionary of the most frequent words in our courpus. This helps us control the effectiveness of the lemmatization, removal of stopwords, and addition of bigrams. If you are working with French, uncomment the length restriction on words in order to avoid the pleintuful French contractions."
      ]
    },
    {
      "cell_type": "code",
      "metadata": {
        "trusted": true,
        "_uuid": "eeb8afe1cfcb7ba65bd14d657455600acacf39ba",
        "id": "-MCk8ws0ph9k",
        "colab_type": "code",
        "outputId": "d5970cb9-2d15-41dd-dbe6-c16a1f786c0b",
        "colab": {
          "base_uri": "https://localhost:8080/",
          "height": 35
        }
      },
      "source": [
        "word_freq = defaultdict(int)\n",
        "for sent in sentences:\n",
        "    for i in sent:\n",
        "      # if len(i)>1:\n",
        "        word_freq[i] += 1\n",
        "len(word_freq)"
      ],
      "execution_count": 24,
      "outputs": [
        {
          "output_type": "execute_result",
          "data": {
            "text/plain": [
              "14429"
            ]
          },
          "metadata": {
            "tags": []
          },
          "execution_count": 24
        }
      ]
    },
    {
      "cell_type": "code",
      "metadata": {
        "trusted": true,
        "_uuid": "5b010149150b2b2eaf332d79bcde0649b8a3c2b5",
        "id": "gk3ZlwREph9t",
        "colab_type": "code",
        "outputId": "33e9a2c2-89d5-4e85-d129-92ac5735c3fe",
        "colab": {
          "base_uri": "https://localhost:8080/",
          "height": 364
        }
      },
      "source": [
        "# print 20 most frequent words\n",
        "sorted(word_freq, key=word_freq.get, reverse=True)[:20]"
      ],
      "execution_count": 25,
      "outputs": [
        {
          "output_type": "execute_result",
          "data": {
            "text/plain": [
              "[\"'\",\n",
              " 'research',\n",
              " 'say',\n",
              " 'researcher',\n",
              " 'science',\n",
              " 'new',\n",
              " 'people',\n",
              " 'university',\n",
              " 'work',\n",
              " 'time',\n",
              " 'year',\n",
              " 'study',\n",
              " 'swiss',\n",
              " 'switzerland',\n",
              " 'find',\n",
              " 'different',\n",
              " 'example',\n",
              " 'project',\n",
              " 'result',\n",
              " 'world']"
            ]
          },
          "metadata": {
            "tags": []
          },
          "execution_count": 25
        }
      ]
    },
    {
      "cell_type": "markdown",
      "metadata": {
        "_uuid": "500ab7b5c84dc006d7945f339c40725a82856fdf",
        "id": "YfnaQAp1ph9y",
        "colab_type": "text"
      },
      "source": [
        "# Training the model\n",
        "## Gensim Word2Vec Implementation:"
      ]
    },
    {
      "cell_type": "code",
      "metadata": {
        "trusted": true,
        "_uuid": "3269be205cadbad499aa87890893d92da6adc796",
        "id": "4TH1ORjyph9z",
        "colab_type": "code",
        "colab": {}
      },
      "source": [
        "import multiprocessing\n",
        "\n",
        "from gensim.models import Word2Vec"
      ],
      "execution_count": 0,
      "outputs": []
    },
    {
      "cell_type": "markdown",
      "metadata": {
        "_uuid": "7c524bc49c41a6c37f9e754a38797c9501202090",
        "id": "9DT-3WJVph92",
        "colab_type": "text"
      },
      "source": [
        "## Training of the model often happens in 3 steps:\n",
        "1. `Word2Vec()`: \n",
        "In this first step, we set up the parameters of the model one-by-one. \n",
        "2. `.build_vocab()`: \n",
        "Here it builds the vocabulary from a sequence of sentences and thus initializes the model. \n",
        "3. `.train()`:\n",
        "Finally, we train the model."
      ]
    },
    {
      "cell_type": "markdown",
      "metadata": {
        "_uuid": "89c305fcd163488441ac2ac6133678bd973b4419",
        "id": "PWEZYEgdph96",
        "colab_type": "text"
      },
      "source": [
        "## The parameters:\n",
        "\n",
        "* `min_count` <font color='purple'>=</font> <font color='green'>int</font> - Ignores all words with total absolute frequency lower than this - (2, 100)\n",
        "\n",
        "\n",
        "* `window` <font color='purple'>=</font> <font color='green'>int</font> - The maximum distance between the current and predicted word within a sentence. E.g. `window` words on the left and `window` words on the left of our target - (2, 10)\n",
        "\n",
        "\n",
        "* `size` <font color='purple'>=</font> <font color='green'>int</font> - Dimensionality of the feature vectors. - (50, 300)\n",
        "\n",
        "\n",
        "* `sample` <font color='purple'>=</font> <font color='green'>float</font> - The threshold for configuring which higher-frequency words are randomly downsampled. Highly influencial.  - (0, 1e-5)\n",
        "\n",
        "\n",
        "* `alpha` <font color='purple'>=</font> <font color='green'>float</font> - The initial learning rate - (0.01, 0.05)\n",
        "\n",
        "\n",
        "* `min_alpha` <font color='purple'>=</font> <font color='green'>float</font> - Learning rate will linearly drop to `min_alpha` as training progresses. To set it: alpha - (min_alpha * epochs) ~ 0.00\n",
        "\n",
        "\n",
        "* `negative` <font color='purple'>=</font> <font color='green'>int</font> - If > 0, negative sampling will be used, the int for negative specifies how many \"noise words\" should be drown. If set to 0, no negative sampling is used. - (5, 20)\n",
        "\n",
        "\n",
        "* `workers` <font color='purple'>=</font> <font color='green'>int</font> - Use these many worker threads to train the model (=faster training with multicore machines)"
      ]
    },
    {
      "cell_type": "code",
      "metadata": {
        "trusted": true,
        "_uuid": "03488d9b68963579c96094aca88a302c9f2753a7",
        "id": "QT2LPaWdph93",
        "colab_type": "code",
        "colab": {}
      },
      "source": [
        "# count the number of cores in a computer\n",
        "cores = multiprocessing.cpu_count() "
      ],
      "execution_count": 0,
      "outputs": []
    },
    {
      "cell_type": "code",
      "metadata": {
        "trusted": true,
        "_uuid": "ad619db82c219d6cb81fad516563feb0c4d474cd",
        "id": "0blGasqQph97",
        "colab_type": "code",
        "colab": {}
      },
      "source": [
        "# pass the parameters to the model\n",
        "w2v_model = Word2Vec(min_count=20,\n",
        "                     window=2,\n",
        "                     size=300,\n",
        "                     sample=6e-5, \n",
        "                     alpha=0.03, \n",
        "                     min_alpha=0.0007, \n",
        "                     negative=20,\n",
        "                     workers=cores-1)"
      ],
      "execution_count": 0,
      "outputs": []
    },
    {
      "cell_type": "markdown",
      "metadata": {
        "_uuid": "d7e9f1bd338f9e15647b5209ffd8fbb131cd7ee5",
        "id": "2QBB0qKBph9-",
        "colab_type": "text"
      },
      "source": [
        "## Building the Vocabulary Table:\n",
        "Word2Vec requires us to build the vocabulary table (simply digesting all the words and filtering out the unique words, and doing some basic counts on them):"
      ]
    },
    {
      "cell_type": "code",
      "metadata": {
        "trusted": true,
        "_uuid": "66358ad743e05e17dfbed3899af9c41056143daa",
        "id": "NOa80sXHph9_",
        "colab_type": "code",
        "outputId": "71a457fc-7637-462c-a93b-be366f288c01",
        "colab": {
          "base_uri": "https://localhost:8080/",
          "height": 243
        }
      },
      "source": [
        "t = time()\n",
        "\n",
        "w2v_model.build_vocab(sentences, progress_per=10000)\n",
        "\n",
        "print('Time to build vocab: {} mins'.format(round((time() - t) / 60, 2)))"
      ],
      "execution_count": 29,
      "outputs": [
        {
          "output_type": "stream",
          "text": [
            "INFO - 07:56:07: collecting all words and their counts\n",
            "INFO - 07:56:07: PROGRESS: at sentence #0, processed 0 words, keeping 0 word types\n",
            "INFO - 07:56:08: PROGRESS: at sentence #10000, processed 88228 words, keeping 11201 word types\n",
            "INFO - 07:56:08: collected 14429 word types from a corpus of 142340 raw words and 16250 sentences\n",
            "INFO - 07:56:08: Loading a fresh vocabulary\n",
            "INFO - 07:56:08: effective_min_count=20 retains 1474 unique words (10% of original 14429, drops 12955)\n",
            "INFO - 07:56:08: effective_min_count=20 leaves 99672 word corpus (70% of original 142340, drops 42668)\n",
            "INFO - 07:56:08: deleting the raw counts dictionary of 14429 items\n",
            "INFO - 07:56:08: sample=6e-05 downsamples 1474 most-common words\n",
            "INFO - 07:56:08: downsampling leaves estimated 35716 word corpus (35.8% of prior 99672)\n",
            "INFO - 07:56:08: estimated required memory for 1474 words and 300 dimensions: 4274600 bytes\n",
            "INFO - 07:56:08: resetting layer weights\n"
          ],
          "name": "stderr"
        },
        {
          "output_type": "stream",
          "text": [
            "Time to build vocab: 0.02 mins\n"
          ],
          "name": "stdout"
        }
      ]
    },
    {
      "cell_type": "markdown",
      "metadata": {
        "_uuid": "63260d82061abb47db7f2f8b23e07ec629adf5a9",
        "id": "ONDWRvaEph-B",
        "colab_type": "text"
      },
      "source": [
        "## Training of the model:\n",
        "_Parameters of the training:_\n",
        "* `total_examples` <font color='purple'>=</font> <font color='green'>int</font> - Count of sentences;\n",
        "* `epochs` <font color='purple'>=</font> <font color='green'>int</font> - Number of iterations (epochs) over the corpus - [10, 20, 30]\n",
        "\n",
        "The training may take some time as well. For the full German corpus, for example, it can last up to 45 mins."
      ]
    },
    {
      "cell_type": "code",
      "metadata": {
        "trusted": true,
        "_uuid": "07a2a047e701e512fd758edff186daadaeea6461",
        "id": "EYlYLSWNph-C",
        "colab_type": "code",
        "outputId": "f5dcc897-b092-4d80-92f8-5a4030cd9af6",
        "colab": {
          "base_uri": "https://localhost:8080/",
          "height": 1000
        }
      },
      "source": [
        "t = time()\n",
        "\n",
        "w2v_model.train(sentences, total_examples=w2v_model.corpus_count, epochs=30, report_delay=1)\n",
        "\n",
        "print('Time to train the model: {} mins'.format(round((time() - t) / 60, 2)))"
      ],
      "execution_count": 30,
      "outputs": [
        {
          "output_type": "stream",
          "text": [
            "INFO - 07:56:16: training model with 1 workers on 1474 vocabulary and 300 features, using sg=0 hs=0 sample=6e-05 negative=20 window=2\n",
            "INFO - 07:56:16: worker thread finished; awaiting finish of 0 more threads\n",
            "INFO - 07:56:16: EPOCH - 1 : training on 142340 raw words (35957 effective words) took 0.7s, 52564 effective words/s\n",
            "INFO - 07:56:17: worker thread finished; awaiting finish of 0 more threads\n",
            "INFO - 07:56:17: EPOCH - 2 : training on 142340 raw words (35667 effective words) took 0.7s, 52174 effective words/s\n",
            "INFO - 07:56:18: worker thread finished; awaiting finish of 0 more threads\n",
            "INFO - 07:56:18: EPOCH - 3 : training on 142340 raw words (35706 effective words) took 0.7s, 50704 effective words/s\n",
            "INFO - 07:56:19: worker thread finished; awaiting finish of 0 more threads\n",
            "INFO - 07:56:19: EPOCH - 4 : training on 142340 raw words (35734 effective words) took 0.7s, 51357 effective words/s\n",
            "INFO - 07:56:19: worker thread finished; awaiting finish of 0 more threads\n",
            "INFO - 07:56:19: EPOCH - 5 : training on 142340 raw words (35704 effective words) took 0.7s, 51124 effective words/s\n",
            "INFO - 07:56:20: worker thread finished; awaiting finish of 0 more threads\n",
            "INFO - 07:56:20: EPOCH - 6 : training on 142340 raw words (35837 effective words) took 0.7s, 51398 effective words/s\n",
            "INFO - 07:56:21: worker thread finished; awaiting finish of 0 more threads\n",
            "INFO - 07:56:21: EPOCH - 7 : training on 142340 raw words (35592 effective words) took 0.7s, 52091 effective words/s\n",
            "INFO - 07:56:21: worker thread finished; awaiting finish of 0 more threads\n",
            "INFO - 07:56:21: EPOCH - 8 : training on 142340 raw words (35659 effective words) took 0.7s, 51398 effective words/s\n",
            "INFO - 07:56:22: worker thread finished; awaiting finish of 0 more threads\n",
            "INFO - 07:56:22: EPOCH - 9 : training on 142340 raw words (35834 effective words) took 0.7s, 50870 effective words/s\n",
            "INFO - 07:56:23: worker thread finished; awaiting finish of 0 more threads\n",
            "INFO - 07:56:23: EPOCH - 10 : training on 142340 raw words (36006 effective words) took 0.8s, 47819 effective words/s\n",
            "INFO - 07:56:24: worker thread finished; awaiting finish of 0 more threads\n",
            "INFO - 07:56:24: EPOCH - 11 : training on 142340 raw words (35497 effective words) took 0.7s, 51839 effective words/s\n",
            "INFO - 07:56:24: worker thread finished; awaiting finish of 0 more threads\n",
            "INFO - 07:56:24: EPOCH - 12 : training on 142340 raw words (36015 effective words) took 0.7s, 50451 effective words/s\n",
            "INFO - 07:56:25: worker thread finished; awaiting finish of 0 more threads\n",
            "INFO - 07:56:25: EPOCH - 13 : training on 142340 raw words (35672 effective words) took 0.7s, 52103 effective words/s\n",
            "INFO - 07:56:26: worker thread finished; awaiting finish of 0 more threads\n",
            "INFO - 07:56:26: EPOCH - 14 : training on 142340 raw words (35711 effective words) took 0.7s, 51230 effective words/s\n",
            "INFO - 07:56:26: worker thread finished; awaiting finish of 0 more threads\n",
            "INFO - 07:56:26: EPOCH - 15 : training on 142340 raw words (35737 effective words) took 0.7s, 50471 effective words/s\n",
            "INFO - 07:56:27: worker thread finished; awaiting finish of 0 more threads\n",
            "INFO - 07:56:27: EPOCH - 16 : training on 142340 raw words (35719 effective words) took 0.7s, 50559 effective words/s\n",
            "INFO - 07:56:28: worker thread finished; awaiting finish of 0 more threads\n",
            "INFO - 07:56:28: EPOCH - 17 : training on 142340 raw words (35587 effective words) took 0.7s, 52989 effective words/s\n",
            "INFO - 07:56:29: worker thread finished; awaiting finish of 0 more threads\n",
            "INFO - 07:56:29: EPOCH - 18 : training on 142340 raw words (35385 effective words) took 0.7s, 51290 effective words/s\n",
            "INFO - 07:56:29: worker thread finished; awaiting finish of 0 more threads\n",
            "INFO - 07:56:29: EPOCH - 19 : training on 142340 raw words (35803 effective words) took 0.7s, 52890 effective words/s\n",
            "INFO - 07:56:30: worker thread finished; awaiting finish of 0 more threads\n",
            "INFO - 07:56:30: EPOCH - 20 : training on 142340 raw words (35562 effective words) took 0.7s, 48374 effective words/s\n",
            "INFO - 07:56:31: worker thread finished; awaiting finish of 0 more threads\n",
            "INFO - 07:56:31: EPOCH - 21 : training on 142340 raw words (35960 effective words) took 0.7s, 52506 effective words/s\n",
            "INFO - 07:56:31: worker thread finished; awaiting finish of 0 more threads\n",
            "INFO - 07:56:31: EPOCH - 22 : training on 142340 raw words (35664 effective words) took 0.7s, 51797 effective words/s\n",
            "INFO - 07:56:32: worker thread finished; awaiting finish of 0 more threads\n",
            "INFO - 07:56:32: EPOCH - 23 : training on 142340 raw words (35866 effective words) took 0.7s, 51731 effective words/s\n",
            "INFO - 07:56:33: worker thread finished; awaiting finish of 0 more threads\n",
            "INFO - 07:56:33: EPOCH - 24 : training on 142340 raw words (35879 effective words) took 0.7s, 50221 effective words/s\n",
            "INFO - 07:56:34: worker thread finished; awaiting finish of 0 more threads\n",
            "INFO - 07:56:34: EPOCH - 25 : training on 142340 raw words (35729 effective words) took 0.7s, 49627 effective words/s\n",
            "INFO - 07:56:34: worker thread finished; awaiting finish of 0 more threads\n",
            "INFO - 07:56:34: EPOCH - 26 : training on 142340 raw words (35678 effective words) took 0.7s, 50395 effective words/s\n",
            "INFO - 07:56:35: worker thread finished; awaiting finish of 0 more threads\n",
            "INFO - 07:56:35: EPOCH - 27 : training on 142340 raw words (35734 effective words) took 0.7s, 51633 effective words/s\n",
            "INFO - 07:56:36: worker thread finished; awaiting finish of 0 more threads\n",
            "INFO - 07:56:36: EPOCH - 28 : training on 142340 raw words (35671 effective words) took 0.7s, 52005 effective words/s\n",
            "INFO - 07:56:36: worker thread finished; awaiting finish of 0 more threads\n",
            "INFO - 07:56:36: EPOCH - 29 : training on 142340 raw words (35631 effective words) took 0.7s, 51112 effective words/s\n",
            "INFO - 07:56:37: worker thread finished; awaiting finish of 0 more threads\n",
            "INFO - 07:56:37: EPOCH - 30 : training on 142340 raw words (35722 effective words) took 0.7s, 51940 effective words/s\n",
            "INFO - 07:56:37: training on a 4270200 raw words (1071918 effective words) took 21.3s, 50221 effective words/s\n"
          ],
          "name": "stderr"
        },
        {
          "output_type": "stream",
          "text": [
            "Time to train the model: 0.36 mins\n"
          ],
          "name": "stdout"
        }
      ]
    },
    {
      "cell_type": "markdown",
      "metadata": {
        "_uuid": "48e12768512b82c2d5cf6a543e3a9f2515699a22",
        "id": "ocz4o_Twph-E",
        "colab_type": "text"
      },
      "source": [
        "As we do not plan to train the model any further, we are calling init_sims(), which will make the model much more memory-efficient:"
      ]
    },
    {
      "cell_type": "code",
      "metadata": {
        "trusted": true,
        "_uuid": "34dd51c7f2f39d016b982ef81e4df576f6b31bcb",
        "id": "9669Pgr5ph-F",
        "colab_type": "code",
        "outputId": "9b0c70d5-7d2f-4e43-f9bd-9ce44b53ac3f",
        "colab": {
          "base_uri": "https://localhost:8080/",
          "height": 35
        }
      },
      "source": [
        "w2v_model.init_sims(replace=True)"
      ],
      "execution_count": 31,
      "outputs": [
        {
          "output_type": "stream",
          "text": [
            "INFO - 08:03:19: precomputing L2-norms of word weight vectors\n"
          ],
          "name": "stderr"
        }
      ]
    },
    {
      "cell_type": "markdown",
      "metadata": {
        "_uuid": "a420d5a98eb860cff1f4bbac8cbe2054459b6200",
        "id": "whxQQi-7ph-I",
        "colab_type": "text"
      },
      "source": [
        "# Exploring the model\n",
        "\n",
        "**Note:** if any of the example words are not in the vocabulary of your dataset, choose different words. If you are working with German or French, replace the example words with their equivalents in your chosen language.\n",
        "## Task 1: Find the most similar\n",
        "\n",
        "Here, we will ask our model to find the words most similar to some of the words in the corpus! "
      ]
    },
    {
      "cell_type": "code",
      "metadata": {
        "trusted": true,
        "_uuid": "339207a733a1ac42fe60e32a29f9e5d5ca0a9275",
        "id": "yC3lPVSJph-K",
        "colab_type": "code",
        "outputId": "808dc065-9fa2-4b3e-a8be-3e6290f6aa57",
        "colab": {
          "base_uri": "https://localhost:8080/",
          "height": 245
        }
      },
      "source": [
        "w2v_model.wv.most_similar(positive=[\"research\"])"
      ],
      "execution_count": 0,
      "outputs": [
        {
          "output_type": "stream",
          "text": [
            "/usr/local/lib/python3.6/dist-packages/gensim/matutils.py:737: FutureWarning: Conversion of the second argument of issubdtype from `int` to `np.signedinteger` is deprecated. In future, it will be treated as `np.int64 == np.dtype(int).type`.\n",
            "  if np.issubdtype(vec.dtype, np.int):\n"
          ],
          "name": "stderr"
        },
        {
          "output_type": "execute_result",
          "data": {
            "text/plain": [
              "[('project', 0.1162150651216507),\n",
              " ('bee', 0.11204305291175842),\n",
              " ('park', 0.10816352814435959),\n",
              " ('set', 0.09712697565555573),\n",
              " ('year', 0.058459386229515076),\n",
              " ('work', 0.05784310773015022),\n",
              " ('science', 0.05644134059548378),\n",
              " ('water', 0.05238720402121544),\n",
              " ('study', 0.04934116452932358),\n",
              " ('wild', 0.0432223342359066)]"
            ]
          },
          "metadata": {
            "tags": []
          },
          "execution_count": 68
        }
      ]
    },
    {
      "cell_type": "code",
      "metadata": {
        "trusted": true,
        "_uuid": "23e5149b19f18f4f2f456d4c72afc5c188bcfba4",
        "id": "ofp1eF08ph-Q",
        "colab_type": "code",
        "outputId": "f280ef7a-4bb0-4fb7-ac3e-e6d642b5108e",
        "colab": {
          "base_uri": "https://localhost:8080/",
          "height": 245
        }
      },
      "source": [
        "w2v_model.wv.most_similar(positive=[\"virus\"])"
      ],
      "execution_count": 32,
      "outputs": [
        {
          "output_type": "stream",
          "text": [
            "/usr/local/lib/python3.6/dist-packages/gensim/matutils.py:737: FutureWarning: Conversion of the second argument of issubdtype from `int` to `np.signedinteger` is deprecated. In future, it will be treated as `np.int64 == np.dtype(int).type`.\n",
            "  if np.issubdtype(vec.dtype, np.int):\n"
          ],
          "name": "stderr"
        },
        {
          "output_type": "execute_result",
          "data": {
            "text/plain": [
              "[('bacteria', 0.9997088313102722),\n",
              " ('antibody', 0.999688982963562),\n",
              " ('blood', 0.9996790289878845),\n",
              " ('pathogen', 0.9996466040611267),\n",
              " ('genetic_material', 0.9996213912963867),\n",
              " ('immune_system', 0.9996191263198853),\n",
              " ('genetic', 0.9996169805526733),\n",
              " ('disease', 0.9996041655540466),\n",
              " ('occur', 0.999595582485199),\n",
              " ('alter', 0.9995887279510498)]"
            ]
          },
          "metadata": {
            "tags": []
          },
          "execution_count": 32
        }
      ]
    },
    {
      "cell_type": "markdown",
      "metadata": {
        "id": "qJJMvwTiL6ri",
        "colab_type": "text"
      },
      "source": [
        "This next word is the same in all three languages except that you have to capitalize it if you are working with German.\n"
      ]
    },
    {
      "cell_type": "code",
      "metadata": {
        "trusted": true,
        "_uuid": "22595f98c675a9697243b7e826b2840e5fc3e5f5",
        "id": "Zka2tU0zph-T",
        "colab_type": "code",
        "outputId": "ad1faa93-374b-46bf-c9ca-cbec1e5add13",
        "colab": {
          "base_uri": "https://localhost:8080/",
          "height": 245
        }
      },
      "source": [
        "w2v_model.wv.most_similar(positive=[\"root\"])"
      ],
      "execution_count": 40,
      "outputs": [
        {
          "output_type": "stream",
          "text": [
            "/usr/local/lib/python3.6/dist-packages/gensim/matutils.py:737: FutureWarning: Conversion of the second argument of issubdtype from `int` to `np.signedinteger` is deprecated. In future, it will be treated as `np.int64 == np.dtype(int).type`.\n",
            "  if np.issubdtype(vec.dtype, np.int):\n"
          ],
          "name": "stderr"
        },
        {
          "output_type": "execute_result",
          "data": {
            "text/plain": [
              "[('origin', 0.9997177124023438),\n",
              " ('source', 0.9997109770774841),\n",
              " ('survive', 0.999699592590332),\n",
              " ('discover', 0.9996928572654724),\n",
              " ('object', 0.9996925592422485),\n",
              " ('ground', 0.9996883869171143),\n",
              " ('compare', 0.9996861815452576),\n",
              " ('lose', 0.9996842741966248),\n",
              " ('island', 0.9996826648712158),\n",
              " ('drive', 0.9996800422668457)]"
            ]
          },
          "metadata": {
            "tags": []
          },
          "execution_count": 40
        }
      ]
    },
    {
      "cell_type": "markdown",
      "metadata": {
        "id": "wngnoCRtMMzC",
        "colab_type": "text"
      },
      "source": [
        "<img src=https://cdn2.iconfinder.com/data/icons/adventure-24/249/adventure-adventurer-explore-explorer-005-512.png width=\"50\"> Add a code block below and search for some other word of your interest. If the word is not in the vocabulary, try a different one. What do you think about the most similar words? Do they all make sense? Try to explain your reasoning."
      ]
    },
    {
      "cell_type": "markdown",
      "metadata": {
        "_uuid": "d8b5937dfd7584f168a33060c435036cad5b390b",
        "id": "DumrFTdxph-Z",
        "colab_type": "text"
      },
      "source": [
        "## Taks2: Similarity between two words\n",
        "Here, we will see how similar two words are to each other :"
      ]
    },
    {
      "cell_type": "code",
      "metadata": {
        "trusted": true,
        "_uuid": "367755f5c9e00de4bc5056c978f5b50a38c1368b",
        "id": "osWEnqWRph-a",
        "colab_type": "code",
        "outputId": "f0fadb0c-d8b0-473f-f953-06fbfb99be91",
        "colab": {
          "base_uri": "https://localhost:8080/",
          "height": 89
        }
      },
      "source": [
        "w2v_model.wv.similarity(\"science\", 'biology')"
      ],
      "execution_count": 39,
      "outputs": [
        {
          "output_type": "stream",
          "text": [
            "/usr/local/lib/python3.6/dist-packages/gensim/matutils.py:737: FutureWarning: Conversion of the second argument of issubdtype from `int` to `np.signedinteger` is deprecated. In future, it will be treated as `np.int64 == np.dtype(int).type`.\n",
            "  if np.issubdtype(vec.dtype, np.int):\n"
          ],
          "name": "stderr"
        },
        {
          "output_type": "execute_result",
          "data": {
            "text/plain": [
              "0.99798644"
            ]
          },
          "metadata": {
            "tags": []
          },
          "execution_count": 39
        }
      ]
    },
    {
      "cell_type": "markdown",
      "metadata": {
        "id": "jcCx9fH2PrUk",
        "colab_type": "text"
      },
      "source": [
        "<img src=https://cdn2.iconfinder.com/data/icons/adventure-24/249/adventure-adventurer-explore-explorer-005-512.png width=\"50\"> Choose two more words and find how similar they are. Try to find an interesting example. Does the similarity value surprise you or conform to your expectations?  "
      ]
    },
    {
      "cell_type": "code",
      "metadata": {
        "trusted": true,
        "_uuid": "349828078b5a438d93e5494478e88095913dc58e",
        "id": "PWeRvruuph-e",
        "colab_type": "code",
        "outputId": "2cf87004-d46c-4250-f723-615536d3fee1",
        "colab": {
          "base_uri": "https://localhost:8080/",
          "height": 89
        }
      },
      "source": [
        "w2v_model.wv.similarity('economy', 'resource')"
      ],
      "execution_count": 43,
      "outputs": [
        {
          "output_type": "stream",
          "text": [
            "/usr/local/lib/python3.6/dist-packages/gensim/matutils.py:737: FutureWarning: Conversion of the second argument of issubdtype from `int` to `np.signedinteger` is deprecated. In future, it will be treated as `np.int64 == np.dtype(int).type`.\n",
            "  if np.issubdtype(vec.dtype, np.int):\n"
          ],
          "name": "stderr"
        },
        {
          "output_type": "execute_result",
          "data": {
            "text/plain": [
              "0.9995702"
            ]
          },
          "metadata": {
            "tags": []
          },
          "execution_count": 43
        }
      ]
    },
    {
      "cell_type": "markdown",
      "metadata": {
        "_uuid": "08a999d758ac687d626b631a8ce393eaa26f41e7",
        "id": "VgN4qv3Tph-p",
        "colab_type": "text"
      },
      "source": [
        "## Task 3: Odd-One-Out\n",
        "\n",
        "Here, we ask our model to give us the word that does not belong to the list! Do you agree with the model?"
      ]
    },
    {
      "cell_type": "code",
      "metadata": {
        "trusted": true,
        "_uuid": "d982e44d9c212b5ee09bcaebd050a725ab5e508e",
        "id": "Y7REhgjaph-s",
        "colab_type": "code",
        "colab": {
          "base_uri": "https://localhost:8080/",
          "height": 124
        },
        "outputId": "5b112e09-3b9f-4334-dc16-61c35385f551"
      },
      "source": [
        "w2v_model.wv.doesnt_match(['risk', 'crisis', 'financial'])"
      ],
      "execution_count": 44,
      "outputs": [
        {
          "output_type": "stream",
          "text": [
            "/usr/local/lib/python3.6/dist-packages/gensim/models/keyedvectors.py:895: FutureWarning: arrays to stack must be passed as a \"sequence\" type such as list or tuple. Support for non-sequence iterables such as generators is deprecated as of NumPy 1.16 and will raise an error in the future.\n",
            "  vectors = vstack(self.word_vec(word, use_norm=True) for word in used_words).astype(REAL)\n",
            "/usr/local/lib/python3.6/dist-packages/gensim/matutils.py:737: FutureWarning: Conversion of the second argument of issubdtype from `int` to `np.signedinteger` is deprecated. In future, it will be treated as `np.int64 == np.dtype(int).type`.\n",
            "  if np.issubdtype(vec.dtype, np.int):\n"
          ],
          "name": "stderr"
        },
        {
          "output_type": "execute_result",
          "data": {
            "text/plain": [
              "'risk'"
            ]
          },
          "metadata": {
            "tags": []
          },
          "execution_count": 44
        }
      ]
    },
    {
      "cell_type": "code",
      "metadata": {
        "id": "T79e2d87oYMW",
        "colab_type": "code",
        "colab": {
          "base_uri": "https://localhost:8080/",
          "height": 141
        },
        "outputId": "8e9c4dc4-82ec-473f-c7a5-bcce51dae215"
      },
      "source": [
        "w2v_model.wv.doesnt_match(['history', 'epic', 'traditional'])"
      ],
      "execution_count": 53,
      "outputs": [
        {
          "output_type": "stream",
          "text": [
            "WARNING - 08:25:05: vectors for words {'epic'} are not present in the model, ignoring these words\n",
            "/usr/local/lib/python3.6/dist-packages/gensim/models/keyedvectors.py:895: FutureWarning: arrays to stack must be passed as a \"sequence\" type such as list or tuple. Support for non-sequence iterables such as generators is deprecated as of NumPy 1.16 and will raise an error in the future.\n",
            "  vectors = vstack(self.word_vec(word, use_norm=True) for word in used_words).astype(REAL)\n",
            "/usr/local/lib/python3.6/dist-packages/gensim/matutils.py:737: FutureWarning: Conversion of the second argument of issubdtype from `int` to `np.signedinteger` is deprecated. In future, it will be treated as `np.int64 == np.dtype(int).type`.\n",
            "  if np.issubdtype(vec.dtype, np.int):\n"
          ],
          "name": "stderr"
        },
        {
          "output_type": "execute_result",
          "data": {
            "text/plain": [
              "'traditional'"
            ]
          },
          "metadata": {
            "tags": []
          },
          "execution_count": 53
        }
      ]
    },
    {
      "cell_type": "markdown",
      "metadata": {
        "_uuid": "df95cdff693e843ab4b4c174fea24029447573cd",
        "id": "M1UxNIQnph-5",
        "colab_type": "text"
      },
      "source": [
        "## Task 4: Analogy difference or vector math\n",
        "You have probably seen the classic example that demonstrates the power of word embeddings:\n",
        "\n",
        "**king - man + woman = queen**\n",
        "\n",
        "The little illustration at the very beginning of this tutorial shows what this relation looks like in vector space. In other words: which word is to *woman* as *king* is to *man*?\n",
        "Let's try to reproduce this example with our corpus. Does it work? "
      ]
    },
    {
      "cell_type": "code",
      "metadata": {
        "trusted": true,
        "_uuid": "812961e79dde9f2032f708755ca287c0aef838d0",
        "id": "_FcznwpQph-9",
        "colab_type": "code",
        "colab": {
          "base_uri": "https://localhost:8080/",
          "height": 124
        },
        "outputId": "9fd1e761-7f58-4a75-cacf-23ac9546bf3c"
      },
      "source": [
        "w2v_model.wv.most_similar(positive=[\"universe\", \"galaxy\"], negative=[\"unknown\"], topn=3)"
      ],
      "execution_count": 52,
      "outputs": [
        {
          "output_type": "stream",
          "text": [
            "/usr/local/lib/python3.6/dist-packages/gensim/matutils.py:737: FutureWarning: Conversion of the second argument of issubdtype from `int` to `np.signedinteger` is deprecated. In future, it will be treated as `np.int64 == np.dtype(int).type`.\n",
            "  if np.issubdtype(vec.dtype, np.int):\n"
          ],
          "name": "stderr"
        },
        {
          "output_type": "execute_result",
          "data": {
            "text/plain": [
              "[('hole', 0.9992321133613586),\n",
              " ('box', 0.9989795088768005),\n",
              " ('sun', 0.9989705085754395)]"
            ]
          },
          "metadata": {
            "tags": []
          },
          "execution_count": 52
        }
      ]
    },
    {
      "cell_type": "markdown",
      "metadata": {
        "id": "TWvkmtw_WofM",
        "colab_type": "text"
      },
      "source": [
        "<img src=https://cdn2.iconfinder.com/data/icons/adventure-24/249/adventure-adventurer-explore-explorer-005-512.png width=\"50\"> Can you find a different example of such a relation? Add another code block and try!"
      ]
    },
    {
      "cell_type": "code",
      "metadata": {
        "id": "_LyR_EQhpBYP",
        "colab_type": "code",
        "colab": {
          "base_uri": "https://localhost:8080/",
          "height": 124
        },
        "outputId": "51d341b3-386b-493c-f6b9-5cc65b4b4faf"
      },
      "source": [
        "w2v_model.wv.most_similar(positive=[\"engineering\", \"lab\"], negative=[\"genetic\"], topn=3)"
      ],
      "execution_count": 55,
      "outputs": [
        {
          "output_type": "stream",
          "text": [
            "/usr/local/lib/python3.6/dist-packages/gensim/matutils.py:737: FutureWarning: Conversion of the second argument of issubdtype from `int` to `np.signedinteger` is deprecated. In future, it will be treated as `np.int64 == np.dtype(int).type`.\n",
            "  if np.issubdtype(vec.dtype, np.int):\n"
          ],
          "name": "stderr"
        },
        {
          "output_type": "execute_result",
          "data": {
            "text/plain": [
              "[('institute', 0.9993104934692383),\n",
              " ('art', 0.999159574508667),\n",
              " ('university_zurich', 0.999120831489563)]"
            ]
          },
          "metadata": {
            "tags": []
          },
          "execution_count": 55
        }
      ]
    },
    {
      "cell_type": "markdown",
      "metadata": {
        "_uuid": "773c0acc8750ba8e728ff261f2e9ec39694c245c",
        "id": "QBDlGWxPph_K",
        "colab_type": "text"
      },
      "source": [
        "# Visualisation with t-SNE\n",
        "t-SNE is a non-linear dimensionality reduction algorithm that attempts to represent high-dimensional data and the underlying relationships between vectors in a lower-dimensional space.<br>\n",
        "Here is a good tutorial on it: https://medium.com/@luckylwk/visualising-high-dimensional-datasets-using-pca-and-t-sne-in-python-8ef87e7915b"
      ]
    },
    {
      "cell_type": "code",
      "metadata": {
        "trusted": true,
        "_uuid": "27ec46110042fc28da900b1b344ae4e0692d5dc2",
        "id": "Uvq1zM_sph_L",
        "colab_type": "code",
        "colab": {
          "base_uri": "https://localhost:8080/",
          "height": 72
        },
        "outputId": "cb289b14-ce3d-4c0a-afae-02fe54c873a7"
      },
      "source": [
        "import numpy as np\n",
        "import matplotlib.pyplot as plt\n",
        "%matplotlib inline\n",
        " \n",
        "import seaborn as sns\n",
        "sns.set_style(\"darkgrid\")\n",
        "\n",
        "from sklearn.decomposition import PCA\n",
        "from sklearn.manifold import TSNE"
      ],
      "execution_count": 56,
      "outputs": [
        {
          "output_type": "stream",
          "text": [
            "/usr/local/lib/python3.6/dist-packages/statsmodels/tools/_testing.py:19: FutureWarning: pandas.util.testing is deprecated. Use the functions in the public API at pandas.testing instead.\n",
            "  import pandas.util.testing as tm\n"
          ],
          "name": "stderr"
        }
      ]
    },
    {
      "cell_type": "markdown",
      "metadata": {
        "_uuid": "22693eaa25253b38cee3c5cd5db6b6fdddb575a4",
        "id": "2T2jaH1yph_O",
        "colab_type": "text"
      },
      "source": [
        "Our goal in this section is to plot our 300 dimensions vectors into 2 dimensional graphs, and see if we can spot interesting patterns.<br>\n",
        "For that we are going to use t-SNE implementation from scikit-learn.\n",
        "\n",
        "To make the visualizations more relevant, we will look at the relationships between a query word (in <font color='red'>**red**</font>), its most similar words in the model (in <font color=\"blue\">**blue**</font>), and other words from the vocabulary (in <font color='green'>**green**</font>)."
      ]
    },
    {
      "cell_type": "code",
      "metadata": {
        "trusted": true,
        "_uuid": "489a7d160dcd92da0ce42a3b5b461368c9ffe5f1",
        "id": "fK7DpQTBph_S",
        "colab_type": "code",
        "colab": {}
      },
      "source": [
        "def tsnescatterplot(model, word, list_names):\n",
        "    \"\"\" Plot in seaborn the results from the t-SNE dimensionality reduction algorithm of the vectors of a query word,\n",
        "    its list of most similar words, and a list of words.\n",
        "    \"\"\"\n",
        "    arrays = np.empty((0, 300), dtype='f')\n",
        "    word_labels = [word]\n",
        "    color_list  = ['red']\n",
        "\n",
        "    # adds the vector of the query word\n",
        "    arrays = np.append(arrays, model.wv.__getitem__([word]), axis=0)\n",
        "    \n",
        "    # gets list of most similar words\n",
        "    close_words = model.wv.most_similar([word])\n",
        "    \n",
        "    # adds the vector for each of the closest words to the array\n",
        "    for wrd_score in close_words:\n",
        "        wrd_vector = model.wv.__getitem__([wrd_score[0]])\n",
        "        word_labels.append(wrd_score[0])\n",
        "        color_list.append('blue')\n",
        "        arrays = np.append(arrays, wrd_vector, axis=0)\n",
        "    \n",
        "    # adds the vector for each of the words from list_names to the array\n",
        "    for wrd in list_names:\n",
        "        wrd_vector = model.wv.__getitem__([wrd])\n",
        "        word_labels.append(wrd)\n",
        "        color_list.append('green')\n",
        "        arrays = np.append(arrays, wrd_vector, axis=0)\n",
        "        \n",
        "    # Reduces the dimensionality from 300 to 50 dimensions with PCA\n",
        "    ### Anastassia's COMMENT: The intial value for n_components=50 didn't work!\n",
        "    ### ValueError: n_components=50 must be between 0 and min(n_samples, n_features)=19 with svd_solver='full'\n",
        "    ### replaced 50 with 19\n",
        "    reduc = PCA(n_components=19).fit_transform(arrays)\n",
        "    \n",
        "    # Finds t-SNE coordinates for 2 dimensions\n",
        "    np.set_printoptions(suppress=True)\n",
        "    \n",
        "    Y = TSNE(n_components=2, random_state=0, perplexity=15).fit_transform(reduc)\n",
        "    \n",
        "    # Sets everything up to plot\n",
        "    df = pd.DataFrame({'x': [x for x in Y[:, 0]],\n",
        "                       'y': [y for y in Y[:, 1]],\n",
        "                       'words': word_labels,\n",
        "                       'color': color_list})\n",
        "    \n",
        "    fig, _ = plt.subplots()\n",
        "    fig.set_size_inches(9, 9)\n",
        "    \n",
        "    # Basic plot\n",
        "    p1 = sns.regplot(data=df,\n",
        "                     x=\"x\",\n",
        "                     y=\"y\",\n",
        "                     fit_reg=False,\n",
        "                     marker=\"o\",\n",
        "                     scatter_kws={'s': 40,\n",
        "                                  'facecolors': df['color']\n",
        "                                 }\n",
        "                    )\n",
        "    \n",
        "    # Adds annotations one by one with a loop\n",
        "    for line in range(0, df.shape[0]):\n",
        "         p1.text(df[\"x\"][line],\n",
        "                 df['y'][line],\n",
        "                 '  ' + df[\"words\"][line].title(),\n",
        "                 horizontalalignment='left',\n",
        "                 verticalalignment='bottom', size='medium',\n",
        "                 color=df['color'][line],\n",
        "                 weight='normal'\n",
        "                ).set_size(15)\n",
        "\n",
        "    \n",
        "    plt.xlim(Y[:, 0].min()-50, Y[:, 0].max()+50)\n",
        "    plt.ylim(Y[:, 1].min()-50, Y[:, 1].max()+50)\n",
        "            \n",
        "    plt.title('t-SNE visualization for {}'.format(word.title()))\n",
        "    "
      ],
      "execution_count": 0,
      "outputs": []
    },
    {
      "cell_type": "markdown",
      "metadata": {
        "_uuid": "3943c170a5f5f09974d90c89bdb9ec761e63a416",
        "id": "8laDfDBMph_X",
        "colab_type": "text"
      },
      "source": [
        "## Task 5: 10 Most similar words vs. 8 Random words\n",
        "Let's compare where the vector representation of 'mountain', its 10 most similar words from the model, as well as 8 random ones, lies in a 2D graph. The most similar words will be used automatically. You are free to change the list of random words based on your interest and the dataset's vocabulary."
      ]
    },
    {
      "cell_type": "code",
      "metadata": {
        "trusted": true,
        "_uuid": "18d788b2a92f94771a5f9485a885d44dfba62a94",
        "id": "RD8Y3jtHph_Z",
        "colab_type": "code",
        "colab": {
          "base_uri": "https://localhost:8080/",
          "height": 622
        },
        "outputId": "fc434645-3368-4c93-c9ef-d349883a170f"
      },
      "source": [
        "tsnescatterplot(w2v_model, 'nature', ['science', 'forest', 'animal', 'university', 'museum', 'air', 'research', 'lecture'])"
      ],
      "execution_count": 59,
      "outputs": [
        {
          "output_type": "stream",
          "text": [
            "/usr/local/lib/python3.6/dist-packages/gensim/matutils.py:737: FutureWarning: Conversion of the second argument of issubdtype from `int` to `np.signedinteger` is deprecated. In future, it will be treated as `np.int64 == np.dtype(int).type`.\n",
            "  if np.issubdtype(vec.dtype, np.int):\n"
          ],
          "name": "stderr"
        },
        {
          "output_type": "display_data",
          "data": {
            "image/png": "[encoded data removed]",
            "text/plain": [
              "<Figure size 648x648 with 1 Axes>"
            ]
          },
          "metadata": {
            "tags": []
          }
        }
      ]
    },
    {
      "cell_type": "markdown",
      "metadata": {
        "_uuid": "c73fc2faaf0baecc84f02a97b50cb9ccefa48686",
        "id": "rR-5tN4Aph_i",
        "colab_type": "text"
      },
      "source": [
        "Interestingly, the 10 most similar words to 'mountain' end up around it, so do some of other random words. Does it make sense?\n",
        "\n",
        "## Task 6: 10 Most similar words vs. 10 Most dissimilar\n",
        "\n",
        "This time, let's compare where the vector representation of 'Switzerland' and its 10 most similar words from the model lies compared to the vector representation of the 10 most dissimilar words to 'Switzerland':"
      ]
    },
    {
      "cell_type": "code",
      "metadata": {
        "trusted": true,
        "_uuid": "10c77b072f7c281f2be919341be116565c20d8a8",
        "id": "GA-bfk8pph_i",
        "colab_type": "code",
        "colab": {
          "base_uri": "https://localhost:8080/",
          "height": 622
        },
        "outputId": "afde2566-739f-4f2d-f09e-b515cb8de52e"
      },
      "source": [
        "tsnescatterplot(w2v_model, 'swiss', [i[0] for i in w2v_model.wv.most_similar(negative=[\"swiss\"])])"
      ],
      "execution_count": 60,
      "outputs": [
        {
          "output_type": "stream",
          "text": [
            "/usr/local/lib/python3.6/dist-packages/gensim/matutils.py:737: FutureWarning: Conversion of the second argument of issubdtype from `int` to `np.signedinteger` is deprecated. In future, it will be treated as `np.int64 == np.dtype(int).type`.\n",
            "  if np.issubdtype(vec.dtype, np.int):\n"
          ],
          "name": "stderr"
        },
        {
          "output_type": "display_data",
          "data": {
            "image/png": "[encoded data removed]",
            "text/plain": [
              "<Figure size 648x648 with 1 Axes>"
            ]
          },
          "metadata": {
            "tags": []
          }
        }
      ]
    },
    {
      "cell_type": "markdown",
      "metadata": {
        "id": "Our8LscPXmvq",
        "colab_type": "text"
      },
      "source": [
        "## Task 7: \n",
        "\n",
        "<img src=https://cdn2.iconfinder.com/data/icons/adventure-24/249/adventure-adventurer-explore-explorer-005-512.png width=\"50\"> Find your own examples for tasks 5 and 6. Add code blocks and create plots. "
      ]
    },
    {
      "cell_type": "markdown",
      "metadata": {
        "_uuid": "011aa35b717d985f1d9fb820208531222055ff7b",
        "id": "c8AyVf-Nph_m",
        "colab_type": "text"
      },
      "source": [
        "\n",
        "\n",
        "\n",
        "# Materials for more in depths understanding:\n",
        "* Word Embeddings introduction: https://www.analyticsvidhya.com/blog/2017/06/word-embeddings-count-word2veec/\n",
        "* Word2Vec introduction: https://skymind.ai/wiki/word2vec\n",
        "* Another Word2Vec introduction: http://mccormickml.com/2016/04/19/word2vec-tutorial-the-skip-gram-model/\n",
        "* A great Gensim implentation tutorial: http://kavita-ganesan.com/gensim-word2vec-tutorial-starter-code/#.W467ScBjM2x\n",
        "* Original articles from Mikolov et al.: https://arxiv.org/abs/1301.3781 and https://arxiv.org/abs/1310.4546\n",
        "\n",
        "\n",
        "# References:\n",
        "* Text+Berg info: http://textberg.ch/site/de/korpora/\n",
        "* The original tutorial is here: https://www.kaggle.com/pierremegret/gensim-word2vec-tutorial\n",
        "* Aneesha Bakharia Medium article: https://medium.com/@aneesha/using-tsne-to-plot-a-subset-of-similar-words-from-word2vec-bb8eeaea6229\n",
        "\n",
        "# THE END"
      ]
    }
  ]
}